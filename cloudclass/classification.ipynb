{
 "cells": [
  {
   "cell_type": "code",
   "execution_count": 184,
   "id": "1294bb14-bc2c-488b-813f-567d6ae3cfe6",
   "metadata": {},
   "outputs": [
    {
     "data": {
      "text/plain": [
       "<matplotlib.image.AxesImage at 0x14b9aa605410>"
      ]
     },
     "execution_count": 184,
     "metadata": {},
     "output_type": "execute_result"
    },
    {
     "data": {
      "image/png": "[encoded data removed]",
      "text/plain": [
       "<Figure size 640x480 with 1 Axes>"
      ]
     },
     "metadata": {},
     "output_type": "display_data"
    }
   ],
   "source": [
    "import numpy as np\n",
    "import matplotlib.pyplot as plt\n",
    "\n",
    "sample_chip = np.load(\"/explore/nobackup/projects/pix4dcloud/szhang16/abiChips/GOES-16/2019-261-71337_3568-3007-10850.npz\", allow_pickle=True)\n",
    "chip_data = sample_chip['data'].item()\n",
    "\n",
    "cloudmask = chip_data['Cloud_mask_binary']\n",
    "latitude = chip_data['Latitude'][45] # Get the middle latitude\n",
    "\n",
    "plt.imshow(cloudSat)"
   ]
  },
  {
   "cell_type": "code",
   "execution_count": 185,
   "id": "60dc003b-db95-40e9-ab20-6dae402346d6",
   "metadata": {},
   "outputs": [],
   "source": [
    "cutoff = abs(np.cos(latitude/1.5))\n",
    "HIGHB = cutoff * 10\n",
    "MHIGHB = cutoff * 7\n",
    "MLOWB = 2.5"
   ]
  },
  {
   "cell_type": "code",
   "execution_count": 186,
   "id": "cd23aece-bec9-4cc1-99fb-8e9f7f00af09",
   "metadata": {},
   "outputs": [],
   "source": [
    "# Convert to corresponding indices\n",
    "HIGHB = HIGHB * 2\n",
    "MHIGHB = MHIGHB * 2\n",
    "MLOWB = MLOWB * 2"
   ]
  },
  {
   "cell_type": "code",
   "execution_count": 187,
   "id": "8bdf0fdb-97c0-4eb1-b6cb-deeecb8d4bc6",
   "metadata": {},
   "outputs": [
    {
     "name": "stdout",
     "output_type": "stream",
     "text": [
      "12.274476177925607 8.592133324547925 5.0\n"
     ]
    }
   ],
   "source": [
    "print(HIGHB, MHIGHB, MLOWB)"
   ]
  },
  {
   "cell_type": "code",
   "execution_count": 188,
   "id": "da555756-f642-47fa-ba04-b80922282385",
   "metadata": {},
   "outputs": [],
   "source": [
    "def classifyPixel(i: int):\n",
    "    if i >= HIGHB:\n",
    "        return 1\n",
    "    if i >= MHIGHB:\n",
    "        return 2\n",
    "    if i >= MLOWB:\n",
    "        return 3\n",
    "    return 4"
   ]
  },
  {
   "cell_type": "code",
   "execution_count": 193,
   "id": "ef2fed25-363d-4c99-a333-672a4eb457f1",
   "metadata": {},
   "outputs": [],
   "source": [
    "coloredmask = cloudmask.copy()"
   ]
  },
  {
   "cell_type": "code",
   "execution_count": 194,
   "id": "ebc0f56b-f232-422e-b5e8-a9a65c5a5eff",
   "metadata": {},
   "outputs": [],
   "source": [
    "totalgroups = []\n",
    "visited = np.zeros_like(cloudmask, dtype=int)\n",
    "curgroups = np.zeros(5, dtype=int)\n",
    "curcolor = 1"
   ]
  },
  {
   "cell_type": "code",
   "execution_count": 197,
   "id": "bed7f6c0-52aa-42c0-8885-b6261816c205",
   "metadata": {},
   "outputs": [],
   "source": [
    "def dfs(i: int, j: int):\n",
    "    visited[i][j] = 1\n",
    "    coloredmask[i][j] = curcolor\n",
    "    classVal = classifyPixel(j)\n",
    "    curgroups[classVal] += 1\n",
    "    if i < 90 and cloudmask[i+1][j] == 1 and visited[i+1][j] == 0:\n",
    "        dfs(i+1, j)\n",
    "    if i > 0 and cloudmask[i-1][j] == 1 and visited[i-1][j] == 0:\n",
    "        dfs(i-1, j)\n",
    "    if j < 39 and cloudmask[i][j+1] == 1 and visited[i][j+1] == 0:\n",
    "        dfs(i, j+1)\n",
    "    if j > 0 and cloudmask[i][j-1] == 1 and visited[i][j-1] == 0:\n",
    "        dfs(i, j-1)"
   ]
  },
  {
   "cell_type": "code",
   "execution_count": 198,
   "id": "b38dd27b-47bb-452b-938b-ca045373d4de",
   "metadata": {},
   "outputs": [],
   "source": [
    "for i in range(len(cloudmask)):\n",
    "    for j in range(len(cloudmask[0])):\n",
    "        if cloudmask[i][j] == 0 or visited[i][j] != 0:\n",
    "            continue\n",
    "        curgroups = [0, 0, 0, 0, 0]\n",
    "        dfs(i, j)\n",
    "        curgroups[0] = curcolor\n",
    "        totalgroups.append(curgroups)\n",
    "        curcolor += 1"
   ]
  },
  {
   "cell_type": "code",
   "execution_count": 199,
   "id": "6a5434c5-3801-48c0-a4a1-0896893dd233",
   "metadata": {},
   "outputs": [
    {
     "data": {
      "text/plain": [
       "<matplotlib.colorbar.Colorbar at 0x14b9aa5d5a90>"
      ]
     },
     "execution_count": 199,
     "metadata": {},
     "output_type": "execute_result"
    },
    {
     "data": {
      "image/png": "[encoded data removed]",
      "text/plain": [
       "<Figure size 640x480 with 2 Axes>"
      ]
     },
     "metadata": {},
     "output_type": "display_data"
    }
   ],
   "source": [
    "plt.imshow(coloredmask)\n",
    "plt.colorbar()"
   ]
  },
  {
   "cell_type": "code",
   "execution_count": 200,
   "id": "436a1a2a-a0d8-4d45-9472-38531f25d83b",
   "metadata": {},
   "outputs": [
    {
     "data": {
      "text/plain": [
       "[[1, 76, 0, 0, 0],\n",
       " [2, 364, 0, 0, 0],\n",
       " [3, 18, 0, 0, 0],\n",
       " [4, 26, 77, 75, 2],\n",
       " [5, 1, 0, 0, 0],\n",
       " [6, 1, 0, 0, 0],\n",
       " [7, 0, 0, 0, 2],\n",
       " [8, 0, 0, 5, 20],\n",
       " [9, 0, 6, 3, 0],\n",
       " [10, 0, 26, 3, 0],\n",
       " [11, 0, 28, 42, 30],\n",
       " [12, 21, 0, 0, 0],\n",
       " [13, 0, 0, 11, 0],\n",
       " [14, 26, 0, 0, 0],\n",
       " [15, 0, 0, 0, 1],\n",
       " [16, 0, 0, 0, 6],\n",
       " [17, 14, 0, 0, 0],\n",
       " [18, 0, 0, 0, 3]]"
      ]
     },
     "execution_count": 200,
     "metadata": {},
     "output_type": "execute_result"
    }
   ],
   "source": [
    "totalgroups"
   ]
  },
  {
   "cell_type": "code",
   "execution_count": null,
   "id": "9cc75be7-8d92-4dad-8c07-f069b3fe2623",
   "metadata": {},
   "outputs": [],
   "source": []
  }
 ],
 "metadata": {
  "kernelspec": {
   "display_name": "Python [conda env:torch]",
   "language": "python",
   "name": "conda-env-torch-py"
  },
  "language_info": {
   "codemirror_mode": {
    "name": "ipython",
    "version": 3
   },
   "file_extension": ".py",
   "mimetype": "text/x-python",
   "name": "python",
   "nbconvert_exporter": "python",
   "pygments_lexer": "ipython3",
   "version": "3.11.9"
  }
 },
 "nbformat": 4,
 "nbformat_minor": 5
}
