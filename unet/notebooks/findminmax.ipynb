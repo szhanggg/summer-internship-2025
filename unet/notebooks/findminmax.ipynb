{
 "cells": [
  {
   "cell_type": "code",
   "execution_count": 3,
   "id": "d817d922-0883-4f00-aaae-a9be41c8b752",
   "metadata": {},
   "outputs": [],
   "source": [
    "import numpy as np\n",
    "import glob"
   ]
  },
  {
   "cell_type": "code",
   "execution_count": 2,
   "id": "61fb649e-a610-41a8-b4d9-e38197b7ed44",
   "metadata": {},
   "outputs": [],
   "source": [
    "# -----------------------------------------------------------------------------\n",
    "# vis_calibrate\n",
    "# -----------------------------------------------------------------------------\n",
    "def vis_calibrate(data):\n",
    "    \"\"\"Calibrate visible channels to reflectance.\"\"\"\n",
    "    solar_irradiance = np.array(2017)\n",
    "    esd = np.array(0.99)\n",
    "    factor = np.pi * esd * esd / solar_irradiance\n",
    "\n",
    "    return data * np.float32(factor) * 100\n",
    "\n",
    "\n",
    "# -----------------------------------------------------------------------------\n",
    "# ir_calibrate\n",
    "# -----------------------------------------------------------------------------\n",
    "def ir_calibrate(data):\n",
    "    \"\"\"Calibrate IR channels to BT.\"\"\"\n",
    "    fk1 = np.array(13432.1),\n",
    "    fk2 = np.array(1497.61),\n",
    "    bc1 = np.array(0.09102),\n",
    "    bc2 = np.array(0.99971),\n",
    "\n",
    "    # if self.clip_negative_radiances:\n",
    "    #     min_rad = self._get_minimum_radiance(data)\n",
    "    #     data = data.clip(min=data.dtype.type(min_rad))\n",
    "\n",
    "    res = (fk2 / np.log(fk1 / data + 1) - bc1) / bc2\n",
    "    return res\n",
    "\n",
    "\n",
    "# -----------------------------------------------------------------------------\n",
    "# ConvertABIToReflectanceBT\n",
    "# -----------------------------------------------------------------------------\n",
    "class ConvertABIToReflectanceBT(object):\n",
    "    \"\"\"\n",
    "    Performs scaling of MODIS TOA data\n",
    "    - Scales reflectance percentages to reflectance units (% -> (0,1))\n",
    "    - Performs per-channel minmax scaling for emissive bands (k -> (0,1))\n",
    "    \"\"\"\n",
    "\n",
    "    def __init__(self):\n",
    "\n",
    "        self.reflectance_indices = [0, 1, 2, 3, 4, 6]\n",
    "        self.emissive_indices = [5, 7, 8, 9, 10, 11, 12, 13]\n",
    "\n",
    "    def __call__(self, img):\n",
    "\n",
    "        # Reflectance % to reflectance units\n",
    "        img[:, :, self.reflectance_indices] = \\\n",
    "            vis_calibrate(img[:, :, self.reflectance_indices])\n",
    "\n",
    "        # Brightness temp scaled to (0,1) range\n",
    "        img[:, :, self.emissive_indices] = ir_calibrate(\n",
    "            img[:, :, self.emissive_indices])\n",
    "\n",
    "        return img"
   ]
  },
  {
   "cell_type": "code",
   "execution_count": 6,
   "id": "c994defa-438d-4319-83ce-181a4a72760d",
   "metadata": {},
   "outputs": [],
   "source": [
    "translation = [1, 2, 0, 4, 5, 6, 3, 8, 9, 10, 11, 13, 14, 15]\n",
    "chippath = \"/explore/nobackup/projects/pix4dcloud/szhang16/abiChips/GOES-16\""
   ]
  },
  {
   "cell_type": "code",
   "execution_count": 7,
   "id": "4dd24a47-887a-46f7-a63d-749b6997ed24",
   "metadata": {},
   "outputs": [],
   "source": [
    "chippaths = glob.glob(chippath + \"/*.npz\")"
   ]
  },
  {
   "cell_type": "code",
   "execution_count": 16,
   "id": "d256ae72-393a-4631-a84c-3a4188bd0212",
   "metadata": {},
   "outputs": [],
   "source": [
    "channel_mins = np.zeros(14, dtype=\"float\") + 100000\n",
    "channel_maxs = np.zeros(14, dtype=\"float\")\n",
    "conversion = ConvertABIToReflectanceBT()"
   ]
  },
  {
   "cell_type": "code",
   "execution_count": 23,
   "id": "ccf04156-6bc3-4cce-91fd-3290be14c0d7",
   "metadata": {},
   "outputs": [],
   "source": [
    "for path in chippaths:\n",
    "    chip = np.load(path)[\"chip\"]\n",
    "    chip = chip[..., translation]\n",
    "    chip = conversion.__call__(chip)\n",
    "    for i in range(14):\n",
    "        channel_mins[i] = np.minimum(channel_mins[i], np.min(chip[:, :, i]))\n",
    "        channel_maxs[i] = np.maximum(channel_maxs[i], np.max(chip[:, :, i]))\n",
    "    "
   ]
  },
  {
   "cell_type": "code",
   "execution_count": 24,
   "id": "b8ced01d-a1a4-432d-af6f-44d5e2a249a0",
   "metadata": {},
   "outputs": [
    {
     "name": "stdout",
     "output_type": "stream",
     "text": [
      "Channel 1 reflectance: 0.025723284110426903 - 96.01878356933594\n",
      "Channel 2 reflectance: -1.2622402906417847 - 56.966243743896484\n",
      "Channel 3 reflectance: 4.098858833312988 - 122.7410659790039\n",
      "Channel 4 reflectance: -0.17457956075668335 - 14.47913646697998\n",
      "Channel 5 reflectance: -0.022678880020976067 - 4.54754638671875\n",
      "Channel 6 emissive: 117.04326629638672 - 228.68850708007812\n",
      "Channel 7 reflectance: -0.2152758687734604 - 12.093914031982422\n",
      "Channel 8 emissive: 152.00592041015625 - 224.83987426757812\n",
      "Channel 9 emissive: 157.96591186523438 - 242.3325958251953\n",
      "Channel 10 emissive: 176.1534881591797 - 307.4200439453125\n",
      "Channel 11 emissive: 210.6049346923828 - 290.8879089355469\n",
      "Channel 12 emissive: 209.71241760253906 - 344.21173095703125\n",
      "Channel 13 emissive: 218.10147094726562 - 345.72894287109375\n",
      "Channel 14 emissive: 225.98939514160156 - 323.5238952636719\n"
     ]
    }
   ],
   "source": [
    "for i in range(14):\n",
    "    channeltype = \"reflectance\" if i < 5 or i == 6 else \"emissive\"\n",
    "    print(f'Channel {i+1} {channeltype}: {channel_mins[i]} - {channel_maxs[i]}')"
   ]
  },
  {
   "cell_type": "code",
   "execution_count": 25,
   "id": "c62943bd-be5a-42b2-a0a5-32c469ae2cae",
   "metadata": {},
   "outputs": [
    {
     "name": "stdout",
     "output_type": "stream",
     "text": [
      "[ 2.57232841e-02 -1.26224029e+00  4.09885883e+00 -1.74579561e-01\n",
      " -2.26788800e-02  1.17043266e+02 -2.15275869e-01  1.52005920e+02\n",
      "  1.57965912e+02  1.76153488e+02  2.10604935e+02  2.09712418e+02\n",
      "  2.18101471e+02  2.25989395e+02]\n"
     ]
    }
   ],
   "source": [
    "print(channel_mins)"
   ]
  },
  {
   "cell_type": "code",
   "execution_count": null,
   "id": "390dac82-8b88-47a5-a3ff-f990e7d7793a",
   "metadata": {},
   "outputs": [],
   "source": []
  }
 ],
 "metadata": {
  "kernelspec": {
   "display_name": "Python [conda env:torch]",
   "language": "python",
   "name": "conda-env-torch-py"
  },
  "language_info": {
   "codemirror_mode": {
    "name": "ipython",
    "version": 3
   },
   "file_extension": ".py",
   "mimetype": "text/x-python",
   "name": "python",
   "nbconvert_exporter": "python",
   "pygments_lexer": "ipython3",
   "version": "3.11.9"
  }
 },
 "nbformat": 4,
 "nbformat_minor": 5
}
