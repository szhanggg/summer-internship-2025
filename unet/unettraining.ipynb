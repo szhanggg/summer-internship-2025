{
 "cells": [
  {
   "cell_type": "code",
   "execution_count": 2,
   "id": "1aae8009-4938-443f-a2ec-fba5746247c4",
   "metadata": {},
   "outputs": [
    {
     "name": "stdout",
     "output_type": "stream",
     "text": [
      "Defaulting to user installation because normal site-packages is not writeable\n",
      "Collecting torchmetrics\n",
      "  Using cached torchmetrics-1.7.4-py3-none-any.whl (963 kB)\n",
      "Collecting torch>=2.0.0\n",
      "  Using cached torch-2.7.1-cp39-cp39-manylinux_2_28_x86_64.whl (821.1 MB)\n",
      "Requirement already satisfied: numpy>1.20.0 in /panfs/ccds02/app/modules/jupyter/ilab/pytorch-kernel-bak/lib/python3.9/site-packages (from torchmetrics) (1.23.5)\n",
      "Requirement already satisfied: packaging>17.1 in /panfs/ccds02/app/modules/jupyter/ilab/pytorch-kernel-bak/lib/python3.9/site-packages (from torchmetrics) (21.3)\n",
      "Collecting lightning-utilities>=0.8.0\n",
      "  Using cached lightning_utilities-0.14.3-py3-none-any.whl (28 kB)\n",
      "Requirement already satisfied: setuptools in /panfs/ccds02/app/modules/jupyter/ilab/pytorch-kernel-bak/lib/python3.9/site-packages (from lightning-utilities>=0.8.0->torchmetrics) (60.10.0)\n",
      "Requirement already satisfied: typing_extensions in /panfs/ccds02/app/modules/jupyter/ilab/pytorch-kernel-bak/lib/python3.9/site-packages (from lightning-utilities>=0.8.0->torchmetrics) (4.4.0)\n",
      "Requirement already satisfied: pyparsing!=3.0.5,>=2.0.2 in /panfs/ccds02/app/modules/jupyter/ilab/pytorch-kernel-bak/lib/python3.9/site-packages (from packaging>17.1->torchmetrics) (3.0.9)\n",
      "Collecting sympy>=1.13.3\n",
      "  Using cached sympy-1.14.0-py3-none-any.whl (6.3 MB)\n",
      "Collecting nvidia-cusparselt-cu12==0.6.3\n",
      "  Using cached nvidia_cusparselt_cu12-0.6.3-py3-none-manylinux2014_x86_64.whl (156.8 MB)\n",
      "Requirement already satisfied: jinja2 in /panfs/ccds02/app/modules/jupyter/ilab/pytorch-kernel-bak/lib/python3.9/site-packages (from torch>=2.0.0->torchmetrics) (3.1.2)\n",
      "Collecting nvidia-cufft-cu12==11.3.0.4\n",
      "  Using cached nvidia_cufft_cu12-11.3.0.4-py3-none-manylinux2014_x86_64.manylinux_2_17_x86_64.whl (200.2 MB)\n",
      "Collecting typing_extensions\n",
      "  Using cached typing_extensions-4.14.1-py3-none-any.whl (43 kB)\n",
      "Collecting nvidia-cufile-cu12==1.11.1.6\n",
      "  Using cached nvidia_cufile_cu12-1.11.1.6-py3-none-manylinux2014_x86_64.manylinux_2_17_x86_64.whl (1.1 MB)\n",
      "Collecting nvidia-curand-cu12==10.3.7.77\n",
      "  Using cached nvidia_curand_cu12-10.3.7.77-py3-none-manylinux2014_x86_64.manylinux_2_17_x86_64.whl (56.3 MB)\n",
      "Collecting nvidia-nccl-cu12==2.26.2\n",
      "  Using cached nvidia_nccl_cu12-2.26.2-py3-none-manylinux2014_x86_64.manylinux_2_17_x86_64.whl (201.3 MB)\n",
      "Collecting nvidia-cudnn-cu12==9.5.1.17\n",
      "  Using cached nvidia_cudnn_cu12-9.5.1.17-py3-none-manylinux_2_28_x86_64.whl (571.0 MB)\n",
      "Collecting nvidia-cuda-runtime-cu12==12.6.77\n",
      "  Using cached nvidia_cuda_runtime_cu12-12.6.77-py3-none-manylinux2014_x86_64.manylinux_2_17_x86_64.whl (897 kB)\n",
      "Requirement already satisfied: fsspec in /panfs/ccds02/app/modules/jupyter/ilab/pytorch-kernel-bak/lib/python3.9/site-packages (from torch>=2.0.0->torchmetrics) (2022.11.0)\n",
      "Collecting nvidia-cuda-nvrtc-cu12==12.6.77\n",
      "  Using cached nvidia_cuda_nvrtc_cu12-12.6.77-py3-none-manylinux2014_x86_64.whl (23.7 MB)\n",
      "Requirement already satisfied: networkx in /panfs/ccds02/app/modules/jupyter/ilab/pytorch-kernel-bak/lib/python3.9/site-packages (from torch>=2.0.0->torchmetrics) (2.6.3)\n",
      "Collecting nvidia-cusparse-cu12==12.5.4.2\n",
      "  Using cached nvidia_cusparse_cu12-12.5.4.2-py3-none-manylinux2014_x86_64.manylinux_2_17_x86_64.whl (216.6 MB)\n",
      "Collecting nvidia-nvtx-cu12==12.6.77\n",
      "  Using cached nvidia_nvtx_cu12-12.6.77-py3-none-manylinux2014_x86_64.manylinux_2_17_x86_64.whl (89 kB)\n",
      "Collecting nvidia-nvjitlink-cu12==12.6.85\n",
      "  Using cached nvidia_nvjitlink_cu12-12.6.85-py3-none-manylinux2010_x86_64.manylinux_2_12_x86_64.whl (19.7 MB)\n",
      "Collecting nvidia-cublas-cu12==12.6.4.1\n",
      "  Using cached nvidia_cublas_cu12-12.6.4.1-py3-none-manylinux2014_x86_64.manylinux_2_17_x86_64.whl (393.1 MB)\n",
      "Collecting nvidia-cuda-cupti-cu12==12.6.80\n",
      "  Using cached nvidia_cuda_cupti_cu12-12.6.80-py3-none-manylinux2014_x86_64.manylinux_2_17_x86_64.whl (8.9 MB)\n",
      "Requirement already satisfied: filelock in /panfs/ccds02/app/modules/jupyter/ilab/pytorch-kernel-bak/lib/python3.9/site-packages (from torch>=2.0.0->torchmetrics) (3.8.1)\n",
      "Collecting triton==3.3.1\n",
      "  Using cached triton-3.3.1-cp39-cp39-manylinux_2_27_x86_64.manylinux_2_28_x86_64.whl (155.6 MB)\n",
      "Collecting nvidia-cusolver-cu12==11.7.1.2\n",
      "  Using cached nvidia_cusolver_cu12-11.7.1.2-py3-none-manylinux2014_x86_64.manylinux_2_17_x86_64.whl (158.2 MB)\n",
      "Collecting mpmath<1.4,>=1.1.0\n",
      "  Using cached mpmath-1.3.0-py3-none-any.whl (536 kB)\n",
      "Requirement already satisfied: MarkupSafe>=2.0 in /panfs/ccds02/app/modules/jupyter/ilab/pytorch-kernel-bak/lib/python3.9/site-packages (from jinja2->torch>=2.0.0->torchmetrics) (2.1.1)\n",
      "Installing collected packages: nvidia-cusparselt-cu12, mpmath, typing_extensions, triton, sympy, nvidia-nvtx-cu12, nvidia-nvjitlink-cu12, nvidia-nccl-cu12, nvidia-curand-cu12, nvidia-cufile-cu12, nvidia-cuda-runtime-cu12, nvidia-cuda-nvrtc-cu12, nvidia-cuda-cupti-cu12, nvidia-cublas-cu12, nvidia-cusparse-cu12, nvidia-cufft-cu12, nvidia-cudnn-cu12, lightning-utilities, nvidia-cusolver-cu12, torch, torchmetrics\n",
      "\u001b[33m  WARNING: The scripts proton and proton-viewer are installed in '/home/szhang16/.local/bin' which is not on PATH.\n",
      "  Consider adding this directory to PATH or, if you prefer to suppress this warning, use --no-warn-script-location.\u001b[0m\u001b[33m\n",
      "\u001b[0m\u001b[33m  WARNING: The script isympy is installed in '/home/szhang16/.local/bin' which is not on PATH.\n",
      "  Consider adding this directory to PATH or, if you prefer to suppress this warning, use --no-warn-script-location.\u001b[0m\u001b[33m\n",
      "\u001b[0m\u001b[33m  WARNING: The scripts torchfrtrace and torchrun are installed in '/home/szhang16/.local/bin' which is not on PATH.\n",
      "  Consider adding this directory to PATH or, if you prefer to suppress this warning, use --no-warn-script-location.\u001b[0m\u001b[33m\n",
      "\u001b[0m\u001b[31mERROR: pip's dependency resolver does not currently take into account all the packages that are installed. This behaviour is the source of the following dependency conflicts.\n",
      "cudf 22.10.1+2.gca9a422da9 requires cupy-cuda115<12.0.0a0,>=9.5.0, which is not installed.\n",
      "cudf-kafka 22.10.1+2.gca9a422da9 requires cython, which is not installed.\n",
      "cudf 22.10.1+2.gca9a422da9 requires cuda-python<11.7.1,>=11.5, but you have cuda-python 11.8.0 which is incompatible.\u001b[0m\u001b[31m\n",
      "\u001b[0mSuccessfully installed lightning-utilities-0.14.3 mpmath-1.3.0 nvidia-cublas-cu12-12.6.4.1 nvidia-cuda-cupti-cu12-12.6.80 nvidia-cuda-nvrtc-cu12-12.6.77 nvidia-cuda-runtime-cu12-12.6.77 nvidia-cudnn-cu12-9.5.1.17 nvidia-cufft-cu12-11.3.0.4 nvidia-cufile-cu12-1.11.1.6 nvidia-curand-cu12-10.3.7.77 nvidia-cusolver-cu12-11.7.1.2 nvidia-cusparse-cu12-12.5.4.2 nvidia-cusparselt-cu12-0.6.3 nvidia-nccl-cu12-2.26.2 nvidia-nvjitlink-cu12-12.6.85 nvidia-nvtx-cu12-12.6.77 sympy-1.14.0 torch-2.7.1 torchmetrics-1.7.4 triton-3.3.1 typing_extensions-4.14.1\n"
     ]
    }
   ],
   "source": [
    "!pip3 install torchmetrics"
   ]
  },
  {
   "cell_type": "code",
   "execution_count": 3,
   "id": "4038d79f-167a-4ede-84f1-1cd4c9af8379",
   "metadata": {},
   "outputs": [
    {
     "ename": "ModuleNotFoundError",
     "evalue": "No module named 'pytorch_lightning'",
     "output_type": "error",
     "traceback": [
      "\u001b[0;31m---------------------------------------------------------------------------\u001b[0m",
      "\u001b[0;31mModuleNotFoundError\u001b[0m                       Traceback (most recent call last)",
      "Cell \u001b[0;32mIn [3], line 6\u001b[0m\n\u001b[1;32m      4\u001b[0m \u001b[38;5;28;01mfrom\u001b[39;00m \u001b[38;5;21;01mtorch\u001b[39;00m\u001b[38;5;21;01m.\u001b[39;00m\u001b[38;5;21;01mutils\u001b[39;00m\u001b[38;5;21;01m.\u001b[39;00m\u001b[38;5;21;01mdata\u001b[39;00m \u001b[38;5;28;01mimport\u001b[39;00m Dataset, DataLoader\n\u001b[1;32m      5\u001b[0m \u001b[38;5;28;01mimport\u001b[39;00m \u001b[38;5;21;01mglob\u001b[39;00m\n\u001b[0;32m----> 6\u001b[0m \u001b[38;5;28;01mfrom\u001b[39;00m \u001b[38;5;21;01mmodel\u001b[39;00m \u001b[38;5;28;01mimport\u001b[39;00m LightningUNET\n\u001b[1;32m      7\u001b[0m \u001b[38;5;28;01mimport\u001b[39;00m \u001b[38;5;21;01mpytorch_lightning\u001b[39;00m \u001b[38;5;28;01mas\u001b[39;00m \u001b[38;5;21;01mpl\u001b[39;00m\n\u001b[1;32m      8\u001b[0m \u001b[38;5;28;01mimport\u001b[39;00m \u001b[38;5;21;01mmatplotlib\u001b[39;00m\u001b[38;5;21;01m.\u001b[39;00m\u001b[38;5;21;01mpyplot\u001b[39;00m \u001b[38;5;28;01mas\u001b[39;00m \u001b[38;5;21;01mplt\u001b[39;00m\n",
      "File \u001b[0;32m/panfs/ccds02/home/szhang16/unet/model.py:8\u001b[0m\n\u001b[1;32m      6\u001b[0m \u001b[38;5;28;01mfrom\u001b[39;00m \u001b[38;5;21;01mtorchmetrics\u001b[39;00m\u001b[38;5;21;01m.\u001b[39;00m\u001b[38;5;21;01mfunctional\u001b[39;00m \u001b[38;5;28;01mimport\u001b[39;00m accuracy\n\u001b[1;32m      7\u001b[0m \u001b[38;5;28;01mimport\u001b[39;00m \u001b[38;5;21;01msys\u001b[39;00m\n\u001b[0;32m----> 8\u001b[0m \u001b[38;5;28;01mimport\u001b[39;00m \u001b[38;5;21;01mpytorch_lightning\u001b[39;00m \u001b[38;5;28;01mas\u001b[39;00m \u001b[38;5;21;01mpl\u001b[39;00m\n\u001b[1;32m     10\u001b[0m \u001b[38;5;28;01mclass\u001b[39;00m \u001b[38;5;21;01mUNET\u001b[39;00m(nn\u001b[38;5;241m.\u001b[39mModule):\n\u001b[1;32m     11\u001b[0m     \u001b[38;5;28;01mdef\u001b[39;00m \u001b[38;5;21m__init__\u001b[39m(\u001b[38;5;28mself\u001b[39m, in_channels\u001b[38;5;241m=\u001b[39m\u001b[38;5;241m16\u001b[39m, classes\u001b[38;5;241m=\u001b[39m\u001b[38;5;241m1\u001b[39m):\n",
      "\u001b[0;31mModuleNotFoundError\u001b[0m: No module named 'pytorch_lightning'"
     ]
    }
   ],
   "source": [
    "import numpy as np\n",
    "import os\n",
    "import torch\n",
    "from torch.utils.data import Dataset, DataLoader\n",
    "import glob\n",
    "from model import LightningUNET\n",
    "import pytorch_lightning as pl\n",
    "import matplotlib.pyplot as plt\n",
    "import random\n",
    "\n",
    "datapath = '/explore/nobackup/people/szhang16/abiChipsNew/'\n",
    "BATCH_SIZE = 16\n",
    "IMG_HEIGHT = 128\n",
    "IMG_WIDTH = 128\n",
    "IMG_CHANNELS = 14\n",
    "LEARNING_RATE = 0.001\n",
    "EPOCHS = 100\n",
    "DATALOADER_WORKERS = 10"
   ]
  },
  {
   "cell_type": "code",
   "execution_count": null,
   "id": "9f8287e4-54e3-4e10-b35c-9ff747b731e1",
   "metadata": {},
   "outputs": [],
   "source": [
    "# ABI Chip Loader\n",
    "class AbiChipDataset(Dataset):\n",
    "    def __init__(self, chip_paths):\n",
    "        self.chip_paths = chip_paths\n",
    "\n",
    "    def __len__(self):\n",
    "        return len(self.chip_paths)\n",
    "\n",
    "    def __getitem__(self, idx):\n",
    "        chip = np.load(self.chip_paths[idx], allow_pickle=True)\n",
    "        image = torch.from_numpy(chip['chip']).permute(2, 0, 1).float()\n",
    "\n",
    "        return (image, torch.from_numpy(chip['data'].item()['Cloud_mask']).float())"
   ]
  },
  {
   "cell_type": "code",
   "execution_count": 37,
   "id": "efc781aa-7aca-44c0-88af-b8074f18087c",
   "metadata": {},
   "outputs": [],
   "source": [
    "def get_ABI_training_data(chip_dir = datapath, batch_size = BATCH_SIZE):\n",
    "    chip_paths = glob.glob(chip_dir + '*-6[789][0-9][0-9][0-9]_*.npz')\n",
    "    dataset = AbiChipDataset(chip_paths)\n",
    "    dataloader = DataLoader(dataset, batch_size=batch_size, shuffle=True, num_workers=DATALOADER_WORKERS)\n",
    "    return dataloader\n",
    "\n",
    "def get_ABI_testing_data(chip_dir = datapath, batch_size = BATCH_SIZE):\n",
    "    chip_paths = glob.glob(chip_dir + '*-71[0-9][0-9][0-9]_*.npz')\n",
    "    dataset = AbiChipDataset(chip_paths)\n",
    "    dataloader = DataLoader(dataset, batch_size=batch_size, shuffle=True, num_workers=DATALOADER_WORKERS)\n",
    "    return dataloader"
   ]
  },
  {
   "cell_type": "code",
   "execution_count": 38,
   "id": "334a4ef4-1ad9-4f49-9b0c-3e4bbf793aa9",
   "metadata": {},
   "outputs": [],
   "source": [
    "train_set = get_ABI_training_data(datapath, BATCH_SIZE)\n",
    "test_set = get_ABI_testing_data(datapath, BATCH_SIZE)"
   ]
  },
  {
   "cell_type": "code",
   "execution_count": 33,
   "id": "95ac72b2-592a-49b3-836c-504a4d44bbc8",
   "metadata": {},
   "outputs": [
    {
     "data": {
      "text/plain": [
       "13"
      ]
     },
     "execution_count": 33,
     "metadata": {},
     "output_type": "execute_result"
    }
   ],
   "source": [
    "len(test_set)"
   ]
  },
  {
   "cell_type": "code",
   "execution_count": 6,
   "id": "6d3ac0c7-0f40-4900-907a-97251d149ca1",
   "metadata": {},
   "outputs": [
    {
     "name": "stderr",
     "output_type": "stream",
     "text": [
      "[rank: 0] Global seed set to 42\n",
      "GPU available: True (cuda), used: True\n",
      "TPU available: False, using: 0 TPU cores\n",
      "IPU available: False, using: 0 IPUs\n",
      "HPU available: False, using: 0 HPUs\n",
      "LOCAL_RANK: 0 - CUDA_VISIBLE_DEVICES: [0,1]\n",
      "\n",
      "  | Name  | Type               | Params\n",
      "---------------------------------------------\n",
      "0 | model | UNET               | 31.0 M\n",
      "1 | iou   | BinaryJaccardIndex | 0     \n",
      "---------------------------------------------\n",
      "31.0 M    Trainable params\n",
      "0         Non-trainable params\n",
      "31.0 M    Total params\n",
      "124.164   Total estimated model params size (MB)\n",
      "SLURM auto-requeueing enabled. Setting signal handlers.\n"
     ]
    },
    {
     "name": "stdout",
     "output_type": "stream",
     "text": [
      "Epoch 99: 100%|██████████| 499/499 [00:39<00:00, 12.76it/s, loss=0.0281, v_num=3.91e+7, Loss:_step=0.0511, Loss:_epoch=0.0277]"
     ]
    },
    {
     "name": "stderr",
     "output_type": "stream",
     "text": [
      "`Trainer.fit` stopped: `max_epochs=100` reached.\n"
     ]
    },
    {
     "name": "stdout",
     "output_type": "stream",
     "text": [
      "Epoch 99: 100%|██████████| 499/499 [00:40<00:00, 12.43it/s, loss=0.0281, v_num=3.91e+7, Loss:_step=0.0511, Loss:_epoch=0.0277]\n"
     ]
    }
   ],
   "source": [
    "pl.seed_everything(42, workers=True)\n",
    "\n",
    "unet = LightningUNET(in_channels=IMG_CHANNELS, classes=1)\n",
    "# unet = LightningUNET.load_from_checkpoint(\"/explore/nobackup/people/szhang16/checkpoints/lightning_logs/version_39074078/checkpoints/epoch=42-step=21457.ckpt\")\n",
    "\n",
    "lr_scheduler = pl.callbacks.LearningRateMonitor(logging_interval='epoch')\n",
    "\n",
    "trainer = pl.Trainer(\n",
    "    default_root_dir=\"/explore/nobackup/people/szhang16/checkpoints\",\n",
    "    max_epochs=EPOCHS,\n",
    "    deterministic=True,\n",
    "    accelerator='gpu',\n",
    "    devices=2,\n",
    "    callbacks=[lr_scheduler]\n",
    ")\n",
    "\n",
    "trainer.fit(model=unet, train_dataloaders=train_set)"
   ]
  },
  {
   "cell_type": "code",
   "execution_count": 39,
   "id": "ce3db3d4-d343-4e8f-8a90-c0db33490f35",
   "metadata": {},
   "outputs": [
    {
     "name": "stderr",
     "output_type": "stream",
     "text": [
      "LOCAL_RANK: 0 - CUDA_VISIBLE_DEVICES: [0,1]\n"
     ]
    },
    {
     "name": "stdout",
     "output_type": "stream",
     "text": [
      "Testing DataLoader 0: 100%|██████████| 223/223 [00:07<00:00, 29.72it/s]\n"
     ]
    },
    {
     "data": {
      "text/html": [
       "<pre style=\"white-space:pre;overflow-x:auto;line-height:normal;font-family:Menlo,'DejaVu Sans Mono',consolas,'Courier New',monospace\">┏━━━━━━━━━━━━━━━━━━━━━━━━━━━┳━━━━━━━━━━━━━━━━━━━━━━━━━━━┓\n",
       "┃<span style=\"font-weight: bold\">   Runningstage.testing    </span>┃<span style=\"font-weight: bold\">                           </span>┃\n",
       "┃<span style=\"font-weight: bold\">          metric           </span>┃<span style=\"font-weight: bold\">       DataLoader 0        </span>┃\n",
       "┡━━━━━━━━━━━━━━━━━━━━━━━━━━━╇━━━━━━━━━━━━━━━━━━━━━━━━━━━┩\n",
       "│<span style=\"color: #008080; text-decoration-color: #008080\">         test_iou          </span>│<span style=\"color: #800080; text-decoration-color: #800080\">    0.37933245301246643    </span>│\n",
       "└───────────────────────────┴───────────────────────────┘\n",
       "</pre>\n"
      ],
      "text/plain": [
       "┏━━━━━━━━━━━━━━━━━━━━━━━━━━━┳━━━━━━━━━━━━━━━━━━━━━━━━━━━┓\n",
       "┃\u001b[1m \u001b[0m\u001b[1m  Runningstage.testing   \u001b[0m\u001b[1m \u001b[0m┃\u001b[1m                           \u001b[0m┃\n",
       "┃\u001b[1m \u001b[0m\u001b[1m         metric          \u001b[0m\u001b[1m \u001b[0m┃\u001b[1m \u001b[0m\u001b[1m      DataLoader 0       \u001b[0m\u001b[1m \u001b[0m┃\n",
       "┡━━━━━━━━━━━━━━━━━━━━━━━━━━━╇━━━━━━━━━━━━━━━━━━━━━━━━━━━┩\n",
       "│\u001b[36m \u001b[0m\u001b[36m        test_iou         \u001b[0m\u001b[36m \u001b[0m│\u001b[35m \u001b[0m\u001b[35m   0.37933245301246643   \u001b[0m\u001b[35m \u001b[0m│\n",
       "└───────────────────────────┴───────────────────────────┘\n"
      ]
     },
     "metadata": {},
     "output_type": "display_data"
    },
    {
     "data": {
      "text/plain": [
       "[{'test_iou': 0.37933245301246643}]"
      ]
     },
     "execution_count": 39,
     "metadata": {},
     "output_type": "execute_result"
    }
   ],
   "source": [
    "trainer.test(model=unet, dataloaders=test_set)"
   ]
  },
  {
   "cell_type": "code",
   "execution_count": 30,
   "id": "faf01d5a-95ce-47f0-a3ff-da37d895c68e",
   "metadata": {},
   "outputs": [
    {
     "data": {
      "image/png": "[encoded data removed]",
      "text/plain": [
       "<Figure size 640x480 with 2 Axes>"
      ]
     },
     "metadata": {},
     "output_type": "display_data"
    }
   ],
   "source": [
    "sample_chip = np.load(\"/explore/nobackup/people/szhang16/abiChipsNew/2019-246-71118_4654-2591-8135.npz\", allow_pickle=True)\n",
    "pred = unet(torch.from_numpy(sample_chip['chip']).permute(2, 0, 1).unsqueeze(0))\n",
    "pred = torch.sigmoid(pred) > 0.5\n",
    "fig, axs = plt.subplots(1,2)\n",
    "img = axs[0].imshow(pred.squeeze().detach().numpy())\n",
    "axs[1].imshow(sample_chip['data'].item()['Cloud_mask'])\n",
    "plt.show()"
   ]
  },
  {
   "cell_type": "code",
   "execution_count": 20,
   "id": "28aa1c3d-4500-4e03-bbd5-aea23cabc625",
   "metadata": {},
   "outputs": [],
   "source": [
    "trainer.save_checkpoint(\"/explore/nobackup/people/szhang16/checkpoints/100epochs.ckpt\")"
   ]
  },
  {
   "cell_type": "code",
   "execution_count": null,
   "id": "f2e41381-f629-41b2-8ed4-64b3c90b2aee",
   "metadata": {},
   "outputs": [],
   "source": []
  }
 ],
 "metadata": {
  "kernelspec": {
   "display_name": "Python [conda env:ilab-pytorch]",
   "language": "python",
   "name": "conda-env-ilab-pytorch-py"
  },
  "language_info": {
   "codemirror_mode": {
    "name": "ipython",
    "version": 3
   },
   "file_extension": ".py",
   "mimetype": "text/x-python",
   "name": "python",
   "nbconvert_exporter": "python",
   "pygments_lexer": "ipython3",
   "version": "3.9.15"
  }
 },
 "nbformat": 4,
 "nbformat_minor": 5
}
